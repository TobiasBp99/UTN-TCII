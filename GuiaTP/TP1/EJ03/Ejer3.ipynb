{
 "cells": [
  {
   "cell_type": "markdown",
   "id": "2df53178",
   "metadata": {},
   "source": [
    "<img src=\"../../logo.png\" align=\"right\" width=\"150\" />\n",
    "\n",
    "#### Teoría de Circuitos II\n",
    "###### Guía Nº1 - Amplificadores OPAMP y OTA \n",
    "#### *Tobias Bavasso Piizzi*\n",
    "# Ejercicio 3\n"
   ]
  },
  {
   "cell_type": "markdown",
   "id": "3006fdc5",
   "metadata": {},
   "source": [
    "<img src=\"./consigna.png\" align=\"center\" width=\"400\"/>"
   ]
  },
  {
   "cell_type": "markdown",
   "id": "1aa80927",
   "metadata": {},
   "source": [
    "## Circuito 1\n",
    "\n",
    "+ Plantenado los Impedancia de Entrada\n",
    "\n",
    "\\begin{equation}\n",
    "\\label{eqn:imp1}\n",
    "Z_1(s) = \\frac{V_1(s)}{I_1(s)}\n",
    "\\end{equation}\n",
    "\n",
    "+ Trabajando con la corriente de entrada\n",
    "\\begin{equation}\n",
    "\\label{eqn:curr}\n",
    "I_1(s) = (V_1(s)-V_2(s)) \\cdot G_2 + V_1(s) \\cdot s \\cdot c\n",
    "\\end{equation}\n",
    "\n",
    "+ Sabiendo que las entradas del OPAMP no toman corriente \n",
    "\n",
    "\\begin{equation}\n",
    "\\label{eqn:curr2}\n",
    "-V_1(s) \\cdot s \\cdot C - V_2(s) \\cdot G_1 = 0 \n",
    "\\end{equation}\n",
    "\n",
    "Trabajando con las ecuaciones $\\ref{eqn:imp1}$ $\\ref{eqn:curr}$ $\\ref{eqn:curr2}$ podemos plantear lo buscado\n",
    "\n",
    "\\begin{equation}\n",
    "\\label{eqn:exc}\n",
    "Z_1(s) = \\frac{R_2}{s \\cdot C \\cdot (R_1+R_2) +1} = \\frac{1}{s + \\frac{1}{C \\cdot (R_1+R_2)}}\n",
    "\\end{equation}\n",
    "\n",
    "En la funciòn de escitación $\\ref{eqn:imp1}$ vemos que el _**compartamiento**_ es el mismo que si tuvieramos un _**capacitor con pérdidas**_ (capacitor con resistencia en paralelo) como se indica en la ecuación $\\ref{eqn:loss}$\n",
    "\n",
    "\\begin{equation}\n",
    "\\label{eqn:loss}\n",
    "Z(s) = \\frac{1}{s \\cdot C + \\frac{1}{R}} = \\frac{R}{s \\cdot C \\cdot R + 1}\n",
    "\\end{equation}\n",
    "\n",
    "\n"
   ]
  },
  {
   "cell_type": "markdown",
   "id": "78c50367",
   "metadata": {},
   "source": [
    "## Circuito Nº2\n",
    "\n",
    "+ Planteando el divisor de tensión\n",
    "\n",
    "\\begin{equation}\n",
    "\\label{eqn:div}\n",
    "V_+(s) = V_1(s) \\cdot \\frac{G_1}{G_1 + G_2}\n",
    "\\end{equation}\n",
    "\n",
    "+ Considerando que por R2 no circula corriente\n",
    "\n",
    "\\begin{equation}\n",
    "\\label{eqn:op}\n",
    "V_+(s) = V_-(s) = V_2(s)\n",
    "\\end{equation}\n",
    "\n",
    "Laburando un poco con las expresiones $\\ref{eqn:div}$ $\\ref{eqn:op}$\n",
    "\n",
    "\\begin{equation}\n",
    "\\label{eqn:imp2}\n",
    "Z_1(s) = R_3 \\cdot \\frac{s \\cdot C \\cdot R_1 +1}{s \\cdot C \\cdot (R_1 + R_3)} =\\frac{R_1 \\cdot R_1}{R_1 + R_3} \\cdot \\frac{s + \\frac{1}{C \\cdot R_1}}{s}\n",
    "\\end{equation}\n",
    "\n",
    "Nuevamente si miramos la función de excitación $\\ref{eqn:imp2}$ tiene exactamente el _**mismo formato**_ que la impedancia de un circuito _**RC serie**_\n",
    "\n",
    "\\begin{equation}\n",
    "\\label{eqn:rc}\n",
    "Z(s) = \\frac{s \\cdot C \\cdot R +1}{s \\cdot C}\n",
    "\\end{equation}\n"
   ]
  },
  {
   "cell_type": "markdown",
   "id": "b24fd13b",
   "metadata": {},
   "source": [
    "## Circuito Nº3\n",
    "\n",
    "+ Planteando las ecuaciones correspondientes al OTA\n",
    "\n",
    "\\begin{equation}\n",
    "\\label{eqn:gm}\n",
    "I_o(s) = gm \\cdot V_1(s)\n",
    "\\end{equation}\n",
    "\n",
    "\\begin{equation}\n",
    "\\label{eqn:curr2}\n",
    "I_2(s) = \\frac{V_2(s)}{R_2}\n",
    "\\end{equation}\n",
    "\n",
    "\\begin{equation}\n",
    "\\label{eqn:curr}\n",
    "I_1(s) = \\frac{V_1(s) - V_2(s)}{R_1} = I_2(s) + I_o(s) \n",
    "\\end{equation}\n",
    "\n",
    "+ Operando con lo planteado\n",
    "\n",
    "\\begin{equation}\n",
    "\\label{eqn:zin}\n",
    "Z_1(s) = \\frac{R_1 + R_2}{1 + gm \\cdot R_2} \n",
    "\\end{equation}\n",
    "\n",
    "La ecuación $\\ref{eqn:zin}$ tiene unidades de $\\Omega$ y representa el _**comportamiento de un resistor**_."
   ]
  },
  {
   "cell_type": "markdown",
   "id": "4664602d",
   "metadata": {},
   "source": [
    "## Circuito Nº4\n",
    "\n",
    "+ Planteando el segundo amplificador como inversor\n",
    "\n",
    "\\begin{equation}\n",
    "\\label{eqn:inv}\n",
    "V_2(s) = - V_1(s) \\cdot \\frac{R_2}{R_1} \n",
    "\\end{equation}\n",
    "\n",
    "+ Obteniendo la corriente del capacitor\n",
    "\n",
    "\\begin{equation}\n",
    "\\label{eqn:cap}\n",
    "I_1(s) = (V_1(s) - V_2(s)) \\cdot s \\cdot C \n",
    "\\end{equation}\n",
    "\n",
    "Manipulando las ecuaciones $\\ref{eqn:inv}$ y $\\ref{eqn:inv}$ obtemos la _**impedancia de un capacitor ideal**_ con un valor de capacidad equivalente superior.\n",
    "\n",
    "\\begin{equation}\n",
    "\\label{eqn:impc}\n",
    "Z_1(s) = \\frac{R_1}{s \\cdot C \\cdot (R_1 + R_2)} \n",
    "\\end{equation}"
   ]
  },
  {
   "cell_type": "code",
   "execution_count": null,
   "id": "de3f2e63",
   "metadata": {},
   "outputs": [],
   "source": []
  }
 ],
 "metadata": {
  "kernelspec": {
   "display_name": "Python 3",
   "language": "python",
   "name": "python3"
  },
  "language_info": {
   "codemirror_mode": {
    "name": "ipython",
    "version": 3
   },
   "file_extension": ".py",
   "mimetype": "text/x-python",
   "name": "python",
   "nbconvert_exporter": "python",
   "pygments_lexer": "ipython3",
   "version": "3.8.5"
  }
 },
 "nbformat": 4,
 "nbformat_minor": 5
}
