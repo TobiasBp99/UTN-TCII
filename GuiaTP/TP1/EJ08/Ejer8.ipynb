{
 "cells": [
  {
   "cell_type": "markdown",
   "id": "2df53178",
   "metadata": {},
   "source": [
    "<img src=\"../../logo.png\" align=\"right\" width=\"150\" />\n",
    "\n",
    "#### Teoría de Circuitos II\n",
    "###### Guía Nº1 - Amplificadores OPAMP y OTA \n",
    "#### *Tobias Bavasso Piizzi*\n",
    "# Ejercicio 8\n"
   ]
  },
  {
   "cell_type": "markdown",
   "id": "3006fdc5",
   "metadata": {},
   "source": [
    "<img src=\"./consigna.png\" align=\"center\" width=\"400\"/>"
   ]
  },
  {
   "cell_type": "markdown",
   "id": "1aa80927",
   "metadata": {},
   "source": [
    "## Circuito Nº1\n",
    "\n",
    "+ Realizamos el análisis por el _**método sistemático de nodos.**_\n",
    "\n",
    "\n",
    "\n",
    "\\begin{equation}\n",
    "\\label{eqn:nudo1}\n",
    "V_a(s) \\cdot(G_5 + G_6) - V_i \\cdot G_5 - V_2 \\cdot G_6= 0\n",
    "\\end{equation}\n",
    "\n",
    "\\begin{equation}\n",
    "\\label{eqn:nudo2}\n",
    "V_a(s) \\cdot(G_4 + G_3) - V_3 \\cdot G_3 - V_1 \\cdot G_4= 0\n",
    "\\end{equation}\n",
    "\n",
    "\\begin{equation}\n",
    "\\label{eqn:nudo3}\n",
    "-V_1(s) \\cdot G_1 - V_2 \\cdot s \\cdot c_2 = 0\n",
    "\\end{equation}\n",
    "\n",
    "\\begin{equation}\n",
    "\\label{eqn:nudo4}\n",
    "-V_2(s) \\cdot G_2 - V_3 \\cdot s \\cdot c_3= 0\n",
    "\\end{equation}\n",
    "\n",
    "\n",
    "+ Operando algebricamente la ecuaciones\n",
    "\n",
    "\n",
    "\\begin{equation}\n",
    "\\label{eqn:trans}\n",
    "H_1(s) = \\frac{G_4 + G_3}{G_5 + G_6} \\cdot \\frac{G_5}{G_4} \\cdot \\frac{s^{2}}{s^{2} + s \\cdot \\frac{G_1 \\cdot G_6 \\cdot (G_4 + G_3)}{c_2\\cdot (G_5 + G_6)} + \\frac{G_1 \\cdot G_2 \\cdot G_3}{c_2 \\cdot c_3 \\cdot G_4}}\n",
    "\\end{equation}\n",
    "\n",
    "La ecuación \\ref{eqn:trans} es la _**ganancia de tensión**_ para el primer caso, para hallar las demás ganancias habría que continuar operando para llegar a las expresiones deseadas. Esto es _**puramente un problema algebraico**_."
   ]
  },
  {
   "cell_type": "code",
   "execution_count": null,
   "id": "5d50bb15",
   "metadata": {},
   "outputs": [],
   "source": []
  }
 ],
 "metadata": {
  "kernelspec": {
   "display_name": "Python 3",
   "language": "python",
   "name": "python3"
  },
  "language_info": {
   "codemirror_mode": {
    "name": "ipython",
    "version": 3
   },
   "file_extension": ".py",
   "mimetype": "text/x-python",
   "name": "python",
   "nbconvert_exporter": "python",
   "pygments_lexer": "ipython3",
   "version": "3.8.5"
  }
 },
 "nbformat": 4,
 "nbformat_minor": 5
}
