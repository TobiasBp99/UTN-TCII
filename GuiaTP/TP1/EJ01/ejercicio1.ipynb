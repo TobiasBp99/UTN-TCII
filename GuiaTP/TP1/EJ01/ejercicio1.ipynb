{
 "cells": [
  {
   "cell_type": "markdown",
   "id": "0d0e1129",
   "metadata": {},
   "source": [
    "<img src=\"../../logo.png\" align=\"right\" width=\"150\" />\n",
    "\n",
    "#### Teoría de Circuitos II\n",
    "###### Guía Nº1 - Amplificadores OPAMP y OTA \n",
    "#### *Tobias Bavasso Piizzi*\n",
    "# Ejercicio 1\n"
   ]
  },
  {
   "cell_type": "markdown",
   "id": "003c9c3c",
   "metadata": {},
   "source": [
    "<img src=\"./consigna.png\" align=\"center\" width=\"400\"/>"
   ]
  },
  {
   "cell_type": "markdown",
   "id": "75e6feec",
   "metadata": {},
   "source": [
    "## Circuito Nº1\n",
    "\n",
    "A simple vista notamos que es un amplificador en configuración _**inversora**_. Sin embargo realizamos el análisis por el _**método sistemático de nodos**__.\n",
    "\n",
    "+ Analizamos el nodo del pin inversor\n",
    "\n",
    "\\begin{equation}\n",
    "\\label{eqn:noinv}\n",
    "(V_1(s)-V_a(s)) \\cdot sC - \\frac{V_a(s)}{R_3} = 0\n",
    "\\end{equation}"
   ]
  },
  {
   "cell_type": "code",
   "execution_count": null,
   "id": "a062a8c7",
   "metadata": {},
   "outputs": [],
   "source": []
  }
 ],
 "metadata": {
  "kernelspec": {
   "display_name": "Python 3",
   "language": "python",
   "name": "python3"
  },
  "language_info": {
   "codemirror_mode": {
    "name": "ipython",
    "version": 3
   },
   "file_extension": ".py",
   "mimetype": "text/x-python",
   "name": "python",
   "nbconvert_exporter": "python",
   "pygments_lexer": "ipython3",
   "version": "3.8.5"
  }
 },
 "nbformat": 4,
 "nbformat_minor": 5
}
