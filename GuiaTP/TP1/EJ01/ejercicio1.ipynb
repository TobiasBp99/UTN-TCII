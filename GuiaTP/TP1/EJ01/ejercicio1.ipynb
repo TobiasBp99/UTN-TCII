{
 "cells": [
  {
   "cell_type": "markdown",
   "id": "0d0e1129",
   "metadata": {},
   "source": [
    "<img src=\"../../logo.png\" align=\"right\" width=\"150\" />\n",
    "\n",
    "#### Teoría de Circuitos II\n",
    "###### Guía Nº1 - Amplificadores OPAMP y OTA \n",
    "#### *Tobias Bavasso Piizzi*\n",
    "# Ejercicio 1\n"
   ]
  },
  {
   "cell_type": "markdown",
   "id": "003c9c3c",
   "metadata": {},
   "source": [
    "<img src=\"./consigna.png\" align=\"center\" width=\"400\"/>"
   ]
  },
  {
   "cell_type": "markdown",
   "id": "75e6feec",
   "metadata": {},
   "source": [
    "## Circuito Nº1\n",
    "\n",
    "A simple vista notamos que es un amplificador en configuración _**inversora**_. Sin embargo realizamos el análisis por el _**método sistemático de nodos.**_\n",
    "\n",
    "+ Buscando la H(s)\n",
    "\n",
    "\\begin{equation}\n",
    "\\label{eqn:nudo}\n",
    "-V_1(s) \\cdot G_1 - V_2(s) \\cdot G_2 = 0\n",
    "\\end{equation}\n",
    "\n",
    "\\begin{equation}\n",
    "\\label{eqn:trans}\n",
    "H(s) = \\frac{V_2(s)}{V_1(s)} = \\frac{-G_1}{G_2} = \\frac{R_2}{R_1} \n",
    "\\end{equation}\n",
    "\n",
    "La ecuación \\ref{eqn:trans} es la _**transferencia**_ de nuestro amplificador.\n",
    "\n",
    "+ Buscando la Z1(s)\n",
    "\n",
    "\\begin{equation}\n",
    "\\label{eqn:imp}\n",
    "Z_1(s) = \\frac{V_1(s)}{I_1(s)} = R_1 = \\frac{1}{G_1}\n",
    "\\end{equation}\n",
    "\n",
    "La ecuación \\ref{eqn:imp} vemos que nos condiciona el diseño ya que la impedancia de entrada depende sólo de un componente, por lo tanto el valor de $\\ R_1  y  R_2 $ ya están unívocamente definidos por las exigencias del diseño. Siendo el valor de $\\ R_2$ imposible de realizar en la práctica.\n",
    "\n",
    "$\\ R_1$ = 10K$\\Omega$ ; $\\ R_2$ = 30M$\\Omega$ "
   ]
  },
  {
   "cell_type": "markdown",
   "id": "fcb146d6",
   "metadata": {},
   "source": [
    "## Circuito Nº2\n",
    "\n",
    "Realizamos el análisis por el _**método sistemático de nodos.**_\n",
    "\n",
    "+ Buscando la H(s)\n",
    "\n",
    "\\begin{equation}\n",
    "\\label{eqn:nudos}\n",
    "-V_1(s) \\cdot G_1 - V_x(s) \\cdot G_2 = 0\n",
    "\\end{equation}\n",
    "\n",
    "\n",
    "\\begin{equation}\n",
    "\\label{eqn:nudoss}\n",
    "V_x(s) \\cdot (G_2+G_3+G_4)-V_x(s) \\cdot G_3 = 0  \n",
    "\\end{equation}\n",
    "\n",
    "\n",
    "Trabajando con \\ref{eqn:nudos} y \\ref{eqn:nudoss} podemos llegar a la _**transferencia**_ de nuestro amplificador.\n",
    "\n",
    "\n",
    "\\begin{equation}\n",
    "\\label{eqn:transf}\n",
    "H(s) = \\frac{V_2(s)}{V_1(s)} = \\frac{-G_1}{G_2 \\cdot G_3} \\cdot (G_2+G_3+G_4)  \n",
    "\\end{equation}\n",
    "\n",
    "\n",
    "\\begin{equation}\n",
    "\\label{eqn:transfe}\n",
    "H(s) = \\frac{V_2(s)}{V_1(s)} = -\\frac{R_3 \\cdot R_4 + R_2 \\cdot R_4 + R_2 \\cdot R_3}{R_1 \\cdot R_4} \n",
    "\\end{equation}\n",
    "\n",
    "\n",
    "\n",
    "+ Buscando la Z1(s)\n",
    "\n",
    "Vemos que no se ha modificado el análisis respecto al circuito anterior.\n",
    "\n",
    "\\begin{equation}\n",
    "\\label{eqn:impe}\n",
    "Z_1(s) = \\frac{V_1(s)}{I_1(s)} = R_1 = \\frac{1}{G_1}\n",
    "\\end{equation}\n",
    "\n",
    "\n",
    "El hecho de tener varios componentes de los cuales depende la impedancia de realimentación en este circuito inversor me permite trabajar con valores _**coherente**_ de resistencias, no como el ejercicio anterior.\n",
    "\n",
    "### Poniendo valores\n",
    "$\\ R_1$ ya está determinado, Luego nuestro problema radica en hallar algún juego de valores que satisfagan \\ref{eqn:transfe}\n",
    "\n",
    "$\\ R_1$ = 10K$\\Omega$ \n",
    "\n",
    "Luego de probar distintos juegos de valores, se determinó que una posible solución podría ser\n",
    "\n",
    "$\\ R_2$ = 300K$\\Omega$ ; $\\ R_3$ = 100K$\\Omega$ $\\ R_1$ = 1K$\\Omega$\n",
    "\n",
    "### Simulando\n",
    "\n",
    "Utilizando el simulador podemos que la respuesta en frecuencia presenta una ganancia de aproximadamente _**69dB**_, lo cual es compatible con la ganancia de _**3000 veces**_ deseada. Luego el gráfico de ganancia se cae como consecuencia del GBP y las características constructivas del OPAMP que no permite amplificar a todas las frecuencias de igual forma.\n",
    "\n",
    "<img src=\"./ganancia.png\" align=\"center\" width=\"1000\"/>\n"
   ]
  },
  {
   "cell_type": "markdown",
   "id": "9ac5fd6a",
   "metadata": {},
   "source": [
    "## Circuito Nº3"
   ]
  }
 ],
 "metadata": {
  "kernelspec": {
   "display_name": "Python 3",
   "language": "python",
   "name": "python3"
  },
  "language_info": {
   "codemirror_mode": {
    "name": "ipython",
    "version": 3
   },
   "file_extension": ".py",
   "mimetype": "text/x-python",
   "name": "python",
   "nbconvert_exporter": "python",
   "pygments_lexer": "ipython3",
   "version": "3.8.5"
  }
 },
 "nbformat": 4,
 "nbformat_minor": 5
}
