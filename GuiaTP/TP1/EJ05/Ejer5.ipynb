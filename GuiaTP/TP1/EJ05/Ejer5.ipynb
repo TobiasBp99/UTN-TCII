{
 "cells": [
  {
   "cell_type": "markdown",
   "id": "2df53178",
   "metadata": {},
   "source": [
    "<img src=\"../../logo.png\" align=\"right\" width=\"150\" />\n",
    "\n",
    "#### Teoría de Circuitos II\n",
    "###### Guía Nº1 - Amplificadores OPAMP y OTA \n",
    "#### *Tobias Bavasso Piizzi*\n",
    "# Ejercicio 1\n"
   ]
  },
  {
   "cell_type": "markdown",
   "id": "3006fdc5",
   "metadata": {},
   "source": [
    "<img src=\"./consigna.png\" align=\"center\" width=\"400\"/>"
   ]
  },
  {
   "cell_type": "markdown",
   "id": "1aa80927",
   "metadata": {},
   "source": [
    "## Circuito con OPMAP\n",
    "\n",
    "Ya que ambos cirrcuitos tienen la misma estructura se resolverá la _**impedancia de entrada de forma genérica**_\n",
    "\n",
    "+ Realizamos el análisis por el _**método sistemático de nodos.**_\n",
    "\n",
    "\n",
    "\\begin{equation}\n",
    "\\label{eqn:nudo1}\n",
    "V_1(s) \\cdot (G_2(s)+G_3(s)) - V_2(s) \\cdot G_2(s) - V_3(s) \\cdot G_3(s) = 0\n",
    "\\end{equation}\n",
    "\n",
    "\\begin{equation}\n",
    "\\label{eqn:nudo2}\n",
    "V_1(s) \\cdot (G_4(s)+G_5(s)) - V_3(s) \\cdot G_4(s) = 0\n",
    "\\end{equation}\n",
    "\n",
    "\n",
    "\\begin{equation}\n",
    "\\label{eqn:imp}\n",
    "Z_1(s) = \\frac{V_1(s)}{I_1(s)}\n",
    "\\end{equation}\n",
    "\n",
    "\\begin{equation}\n",
    "\\label{eqn:curr}\n",
    "I_1(s) = V_1(s) - V_2(s) \\cdot G_1(s)\n",
    "\\end{equation}\n",
    "\n",
    "+ Trabajando con todas las ecuaciones se llega a la _**impedancia de entrada**_\n",
    "\n",
    "\\begin{equation}\n",
    "\\label{eqn:end}\n",
    "Z_1(s) = \\frac{G_2(s) \\cdot G_4(s)}{G_1(s) \\cdot G_3(s) \\cdot G_5(s)} = \\frac{Z_1(s) \\cdot Z_3(s) \\cdot Z_5(s)}{Z_2(s) \\cdot Z_4(s)}\n",
    "\\end{equation}\n"
   ]
  },
  {
   "cell_type": "markdown",
   "id": "1224723e",
   "metadata": {},
   "source": [
    "## Circuito OTA\n",
    "\n",
    "+ Considerando que la corriente de entrada del primer OTA y de salida del segundo OTA son iguales\n",
    "\n",
    "\\begin{equation}\n",
    "\\label{eqn:out1}\n",
    "Vo_1(s) = gm_1 \\cdot V_1(s)\n",
    "\\end{equation}\n",
    "\n",
    "\\begin{equation}\n",
    "\\label{eqn:in2}\n",
    "Io_2(s) = gm_2 \\cdot Vo_1(s) = \\frac{gm_2 \\cdot gm_1 \\cdot V_1(s)}{s \\cdot c}\n",
    "\\end{equation}\n",
    "\n",
    "\\begin{equation}\n",
    "\\label{eqn:imp}\n",
    "Z_1(s) = \\frac{s \\cdot c}{gm_2 \\cdot gm_1 }\n",
    "\\end{equation}\n",
    "\n",
    "\n"
   ]
  }
 ],
 "metadata": {
  "kernelspec": {
   "display_name": "Python 3",
   "language": "python",
   "name": "python3"
  },
  "language_info": {
   "codemirror_mode": {
    "name": "ipython",
    "version": 3
   },
   "file_extension": ".py",
   "mimetype": "text/x-python",
   "name": "python",
   "nbconvert_exporter": "python",
   "pygments_lexer": "ipython3",
   "version": "3.8.5"
  }
 },
 "nbformat": 4,
 "nbformat_minor": 5
}
