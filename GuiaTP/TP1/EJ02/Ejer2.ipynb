{
 "cells": [
  {
   "cell_type": "markdown",
   "id": "2df53178",
   "metadata": {},
   "source": [
    "<img src=\"../../logo.png\" align=\"right\" width=\"150\" />\n",
    "\n",
    "#### Teoría de Circuitos II\n",
    "###### Guía Nº1 - Amplificadores OPAMP y OTA \n",
    "#### *Tobias Bavasso Piizzi*\n",
    "# Ejercicio 2\n"
   ]
  },
  {
   "cell_type": "markdown",
   "id": "3006fdc5",
   "metadata": {},
   "source": [
    "<img src=\"./consigna.png\" align=\"center\" width=\"400\"/>"
   ]
  },
  {
   "cell_type": "markdown",
   "id": "1aa80927",
   "metadata": {},
   "source": [
    "## Transferencia\n",
    "\n",
    "A simple vista notamos que es un amplificador en configuración _**inversora**_. Sin embargo realizamos el análisis por el _**método sistemático de nodos.**_\n",
    "\n",
    "+ Plantenado los nodos\n",
    "\n",
    "$$\n",
    "\\begin{equation}\n",
    "\\label{eqn:nudo1}\n",
    "V_1(s) \\cdot (G_a+G+G) - V_A(s) \\cdot G_a = 0\n",
    "\\end{equation}\n",
    "$$\n",
    "$$\n",
    "\\begin{equation}\n",
    "\\label{eqn:nudo2}\n",
    "-V_1(s) \\cdot G - V_B(s) \\cdot G_k = 0\n",
    "\\end{equation}\n",
    "$$\n",
    "+ Trabajando con las ecuaciones \\ref{eqn:nudo1} \\ref{eqn:nudo2} obtenidas de los nodos y sabiendo que \n",
    "\n",
    "$$ \\begin{equation}\n",
    "\\label{eqn:v}\n",
    "VAB(s) = V_A(s)-V_B(s)\n",
    "\\end{equation}\n",
    "$$\n",
    "$$\n",
    "\\begin{equation}\n",
    "\\label{eqn:dife}\n",
    "VAB(s) = V_1(s) \\cdot 2 \\cdot k\n",
    "\\end{equation}\n",
    "$$\n",
    "\n",
    "Llegamos a nuestra ecuación de _**salida diferecial**_ $\\ref{eqn:dife}$\n"
   ]
  },
  {
   "cell_type": "markdown",
   "id": "78c50367",
   "metadata": {},
   "source": [
    "## Simulación\n",
    "\n",
    "Adoptando los valores que se indican en la imagen, vemos que la ganancia obtenida es de aproximadamente _**26dB**_. Como nuestro valor de k es igual a 10, contrastamos que la ganancia es de _**10 veces**_.\n",
    "\n",
    "<img src=\"./circuit.png\" align=\"center\" width=\"400\"/>\n",
    "<img src=\"./simu.png\" align=\"center\" width=\"1000\"/>"
   ]
  },
  {
   "cell_type": "code",
   "execution_count": null,
   "id": "838e4767",
   "metadata": {},
   "outputs": [],
   "source": []
  }
 ],
 "metadata": {
  "kernelspec": {
   "display_name": "Python 3",
   "language": "python",
   "name": "python3"
  },
  "language_info": {
   "codemirror_mode": {
    "name": "ipython",
    "version": 3
   },
   "file_extension": ".py",
   "mimetype": "text/x-python",
   "name": "python",
   "nbconvert_exporter": "python",
   "pygments_lexer": "ipython3",
   "version": "3.8.5"
  }
 },
 "nbformat": 4,
 "nbformat_minor": 5
}
