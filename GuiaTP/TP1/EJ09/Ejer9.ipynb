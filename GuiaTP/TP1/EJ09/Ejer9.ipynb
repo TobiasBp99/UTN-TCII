{
 "cells": [
  {
   "cell_type": "markdown",
   "id": "2df53178",
   "metadata": {},
   "source": [
    "<img src=\"../../logo.png\" align=\"right\" width=\"150\" />\n",
    "\n",
    "#### Teoría de Circuitos II\n",
    "###### Guía Nº1 - Amplificadores OPAMP y OTA \n",
    "#### *Tobias Bavasso Piizzi*\n",
    "# Ejercicio 9\n"
   ]
  },
  {
   "cell_type": "markdown",
   "id": "3006fdc5",
   "metadata": {},
   "source": [
    "<img src=\"./consigna.png\" align=\"center\" width=\"400\"/>"
   ]
  },
  {
   "cell_type": "markdown",
   "id": "1aa80927",
   "metadata": {},
   "source": [
    "## Circuito\n",
    "\n",
    "+ Realizamos el análisis por el _**método sistemático de nodos.**_\n",
    "\n",
    "\\begin{equation}\n",
    "\\label{eqn:nudo1}\n",
    "V_x(s) \\cdot (\\frac{1}{R_1}+\\frac{1}{R_3}+\\frac{1}{R_4}+ s \\cdot C_2 ) - V_o(s) \\cdot \\frac{1}{R_4} - V_1(s) \\cdot \\frac{1}{R_4} = 0\n",
    "\\end{equation}\n",
    "\n",
    "\\begin{equation}\n",
    "\\label{eqn:nudo2}\n",
    "-V_x(s) \\cdot \\frac{1}{R_3} - V_o(s) \\cdot C_5 = 0\n",
    "\\end{equation}\n",
    "\n",
    "La ecuación \\ref{eqn:trans} es la _**transferencia**_ de nuestro amplificador.\n",
    "\n",
    "+ Operando llegamos a la _**transferencia**_\n",
    "\n",
    "$\\ \\omega_o = \\frac{1}{\\sqrt{C_2 \\cdot C_5 \\cdot R_3 \\cdot R_4}} = 10 $\n",
    "$\\ Q = \\frac{R_3 \\cdot R_4 + R_1 \\cdot R_4 + R_1 \\cdot R_3}{\\sqrt{C_2 \\cdot C_5 \\cdot R_3 \\cdot R_4}} = \\frac{10}{3} $\n",
    "$\\ K = -\\frac{R_4}{R_1} = -1$\n",
    "\\begin{equation}\n",
    "\\label{eqn:trans}\n",
    "H(s) = K \\cdot \\frac{\\omega_o^{2}}{s^{2} + s \\frac{\\omega_o}{Q} + \\omega_o^{2}}\n",
    "\\end{equation}\n",
    "+ Poniendo valores\n",
    "\n",
    "\\begin{equation}\n",
    "\\label{eqn:trans2}\n",
    "H(s) = - \\frac{100}{s^{2} + s \\cdot 3 + 100}\n",
    "\\end{equation}\n",
    "\n",
    "+ Si llevamos los componentes a los valores solicitados \n",
    "$\\ R_1 = R_3 = R_4 = 2,12 M\\Omega $\n",
    "$\\ C_2 = 4700 pF $\n",
    "$\\ C_2 = 47 pF $\n"
   ]
  }
 ],
 "metadata": {
  "kernelspec": {
   "display_name": "Python 3",
   "language": "python",
   "name": "python3"
  },
  "language_info": {
   "codemirror_mode": {
    "name": "ipython",
    "version": 3
   },
   "file_extension": ".py",
   "mimetype": "text/x-python",
   "name": "python",
   "nbconvert_exporter": "python",
   "pygments_lexer": "ipython3",
   "version": "3.8.5"
  }
 },
 "nbformat": 4,
 "nbformat_minor": 5
}
