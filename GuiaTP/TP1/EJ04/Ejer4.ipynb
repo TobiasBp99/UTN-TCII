{
 "cells": [
  {
   "cell_type": "markdown",
   "id": "2df53178",
   "metadata": {},
   "source": [
    "<img src=\"../../logo.png\" align=\"right\" width=\"150\" />\n",
    "\n",
    "#### Teoría de Circuitos II\n",
    "###### Guía Nº1 - Amplificadores OPAMP y OTA \n",
    "#### *Tobias Bavasso Piizzi*\n",
    "# Ejercicio 4\n"
   ]
  },
  {
   "cell_type": "markdown",
   "id": "3006fdc5",
   "metadata": {},
   "source": [
    "<img src=\"./consigna.png\" align=\"center\" width=\"400\"/>"
   ]
  },
  {
   "cell_type": "markdown",
   "id": "1aa80927",
   "metadata": {},
   "source": [
    "## Circuitos\n",
    "\n",
    "+ Se propone el siguiente circuito para reemplazar la resistencia que está _**conectada a masa**_.\n",
    "\n",
    "\n",
    "<img src=\"./circ1.png\" align=\"center\" width=\"400\"/>\n",
    "\n",
    "\n",
    "\\begin{equation}\n",
    "\\label{eqn:imp}\n",
    "Z_1(s) = \\frac{V_1(s)}{I_o(s)}\n",
    "\\end{equation}\n",
    "\n",
    "\\begin{equation}\n",
    "\\label{eqn:tra}\n",
    "I_o(s) = gm_1 \\cdot V_2(s) = \\frac{V_1(s) - V_2(s)}{R_1} \n",
    "\\end{equation}\n",
    "\n",
    "\\begin{equation}\n",
    "\\label{eqn:final}\n",
    "Z_1(s) = R_1 + \\frac{1}{gm_1}\n",
    "\\end{equation}\n",
    "\n",
    "La ecuación \\ref{eqn:final} emula nuestro _**resistor serie a masa**_.\n",
    "\n",
    "\n",
    "+ Se propone el siguiente circuito para también reemplazar la resistencia que está _**flotando**_.\n",
    "\n",
    "<img src=\"./circ2.png\" align=\"center\" width=\"400\"/>\n",
    "\n",
    "\\begin{equation}\n",
    "\\label{eqn:curr}\n",
    "I_i(s) = I_o(s) = gm_1 \\cdot (V_1(s) - V_o(s) = gm_2 \\cdot V_o(s)\n",
    "\\end{equation}\n",
    "\n",
    "De la ecuación \\ref{eqn:curr} tenemos toda la información necesaria para plantear como se comporta el _**divisor resistivo**_\n",
    "\n",
    "\\begin{equation}\n",
    "\\label{eqn:trans}\n",
    "\\frac{V_o(s)}{V_1(s)} = \\frac{gm_1}{gm_1 + gm_2} \n",
    "\\end{equation}\n",
    "\n",
    "\\begin{equation}\n",
    "\\label{eqn:eq}\n",
    "Z_1(s) = \\frac{gm_1 + gm_2}{gm_1 \\cdot gm_2} = R_1 + R_2\n",
    "\\end{equation}"
   ]
  }
 ],
 "metadata": {
  "kernelspec": {
   "display_name": "Python 3",
   "language": "python",
   "name": "python3"
  },
  "language_info": {
   "codemirror_mode": {
    "name": "ipython",
    "version": 3
   },
   "file_extension": ".py",
   "mimetype": "text/x-python",
   "name": "python",
   "nbconvert_exporter": "python",
   "pygments_lexer": "ipython3",
   "version": "3.8.5"
  }
 },
 "nbformat": 4,
 "nbformat_minor": 5
}
